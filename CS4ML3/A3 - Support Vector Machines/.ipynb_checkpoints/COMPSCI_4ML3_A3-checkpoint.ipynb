{
 "cells": [
  {
   "cell_type": "markdown",
   "metadata": {
    "id": "_eGA5YxF97E3"
   },
   "source": [
    "# Application of ML in analyzing text documents\n",
    "In this asssignment we take advantage of scikit-learn in working with text documents. If you have missed the tutorial, you are encouraged to watch the associated tutorial. This will also be an excercise to figure out how to write a code with a new machine learning package; this is a necessary skill in applied machine learning, since the packages evolve quickly (and there are many of them) so being able to figure out how to work with a tool within a reasonble time frame is important. If you need further details you can check out to this <a href=\"https://scikit-learn.org/stable/tutorial/text_analytics/working_with_text_data.html\" > scikit example </a>, or other scikit documentations.\n",
    "\n",
    "# Submission\n",
    "- There are three tasks for you.\n",
    "- Report the results and answer the questions in a pdf file, along with your other solutions.\n",
    "- Additionally, submit your code in the same Jupiter notebook format. (keep the overal format of the notebook unchanged)\n",
    "\n",
    "Make a copy of this colab so that you can modify it for yourself. If google colab is slow, you can also download the notebook and use Jupyter notebook on your computer (just like assignment 2). Using the online notebook has the benefit that all the required packages are already installed.\n"
   ]
  },
  {
   "cell_type": "markdown",
   "metadata": {
    "id": "hRjQi9nP-CdA"
   },
   "source": [
    "# Packages\n",
    "\n",
    "First of all, let's import the packages we need for this assignment.\n"
   ]
  },
  {
   "cell_type": "code",
   "execution_count": 1,
   "metadata": {
    "id": "xNRer4Oz-Mxd"
   },
   "outputs": [],
   "source": [
    "# CS 4ML3 A3\n",
    "# Tahseen Ahmed - ahmedt26\n",
    "# Friday, March 19th, 2020\n",
    "# ========================\n",
    "# loading need libraries\n",
    "import numpy as np\n",
    "from sklearn.svm import SVC\n",
    "from sklearn.datasets import fetch_20newsgroups\n",
    "from sklearn.pipeline import Pipeline\n",
    "from sklearn.feature_extraction.text import CountVectorizer\n",
    "from sklearn.feature_extraction.text import TfidfTransformer\n",
    "\n",
    "# Addition Imports for Confusion Matrix\n",
    "from sklearn.metrics import confusion_matrix\n",
    "from sklearn.metrics import accuracy_score "
   ]
  },
  {
   "cell_type": "markdown",
   "metadata": {
    "id": "oQyhj3jX-Oqk"
   },
   "source": [
    "# Dataset characteristics\n",
    "\n",
    "Here we take a look at the structure/properties of the dataset. To have a faster code, we just pick 4 class labels out of 20 from this dataset. We are going to classify the documents into these 4 categories. So each data point is a text document.\n"
   ]
  },
  {
   "cell_type": "code",
   "execution_count": 2,
   "metadata": {
    "colab": {
     "base_uri": "https://localhost:8080/"
    },
    "id": "UAPTE5Jj-RdK",
    "outputId": "be645590-d8da-4029-b8c2-41556b97498f"
   },
   "outputs": [
    {
     "name": "stdout",
     "output_type": "stream",
     "text": [
      "Dataset properties on train section:\n",
      "\t Number of training data points: 2257\n",
      "\t Number of test data points: 1502\n",
      "\t Number of Classes: 4\n",
      "\t Class names:  ['alt.atheism', 'comp.graphics', 'sci.med', 'soc.religion.christian']\n"
     ]
    }
   ],
   "source": [
    "categories = ['alt.atheism', 'soc.religion.christian',\n",
    "              'comp.graphics', 'sci.med']\n",
    "twenty_train = fetch_20newsgroups(subset='train',\n",
    "    categories=categories, shuffle=True, random_state=42)\n",
    "twenty_test = fetch_20newsgroups(subset='test',\n",
    "    categories=categories, shuffle=True, random_state=42)\n",
    "\n",
    "print(\"Dataset properties on train section:\")\n",
    "print(\"\\t Number of training data points: %d\" % len(twenty_train.data))\n",
    "print(\"\\t Number of test data points: %d\" % len(twenty_test.data))\n",
    "print(\"\\t Number of Classes: %d\" % len(categories))\n",
    "print(\"\\t Class names: \" ,(twenty_train.target_names))"
   ]
  },
  {
   "cell_type": "markdown",
   "metadata": {
    "id": "s3BTn8wybzH5"
   },
   "source": [
    "# A sample of dataset\n",
    "We can see the first instance/element of the training set like this,"
   ]
  },
  {
   "cell_type": "code",
   "execution_count": 3,
   "metadata": {
    "colab": {
     "base_uri": "https://localhost:8080/"
    },
    "id": "qV74xmOgcabl",
    "outputId": "df1776bc-b291-4da0-e83d-71b62e27e59e"
   },
   "outputs": [
    {
     "name": "stdout",
     "output_type": "stream",
     "text": [
      "From: sd345@city.ac.uk (Michael Collier)\n",
      "Subject: Converting images to HP LaserJet III?\n",
      "Nntp-Posting-Host: hampton\n",
      "Organization: The City University\n",
      "Lines: 14\n",
      "\n",
      "Does anyone know of a good way (standard PC application/PD utility) to\n",
      "convert tif/img/tga files into LaserJet III format.  We would also like to\n",
      "do the same, converting to HPGL (HP plotter) files.\n",
      "\n",
      "Please email any response.\n",
      "\n",
      "Is this the correct group?\n",
      "\n",
      "Thanks in advance.  Michael.\n",
      "-- \n",
      "Michael Collier (Programmer)                 The Computer Unit,\n",
      "Email: M.P.Collier@uk.ac.city                The City University,\n",
      "Tel: 071 477-8000 x3769                      London,\n",
      "Fax: 071 477-8565                            EC1V 0HB.\n",
      "\n"
     ]
    }
   ],
   "source": [
    "print(\"\\n\".join(twenty_train.data[0].split(\"\\n\")))"
   ]
  },
  {
   "cell_type": "markdown",
   "metadata": {
    "id": "XyRQrlhMccdq"
   },
   "source": [
    "the category name of the instance can be found as follows:"
   ]
  },
  {
   "cell_type": "code",
   "execution_count": 4,
   "metadata": {
    "colab": {
     "base_uri": "https://localhost:8080/"
    },
    "id": "YQXuwz5ickAM",
    "outputId": "8d987ec2-e8a0-4ce7-d6b7-ead3edc228c5"
   },
   "outputs": [
    {
     "name": "stdout",
     "output_type": "stream",
     "text": [
      "comp.graphics\n"
     ]
    }
   ],
   "source": [
    "print(twenty_train.target_names[twenty_train.target[0]])"
   ]
  },
  {
   "cell_type": "markdown",
   "metadata": {
    "id": "CTuJXmgQdkYK"
   },
   "source": [
    "To get the categries of a range of data, e.g., first 10 samples, we can do something like this:"
   ]
  },
  {
   "cell_type": "code",
   "execution_count": 5,
   "metadata": {
    "colab": {
     "base_uri": "https://localhost:8080/"
    },
    "id": "Nr-57YnMeIpp",
    "outputId": "72a0e7c6-f04c-47fb-bc1e-bcb049e985a8"
   },
   "outputs": [
    {
     "name": "stdout",
     "output_type": "stream",
     "text": [
      "comp.graphics\n",
      "comp.graphics\n",
      "soc.religion.christian\n",
      "soc.religion.christian\n",
      "soc.religion.christian\n",
      "soc.religion.christian\n",
      "soc.religion.christian\n",
      "sci.med\n",
      "sci.med\n",
      "sci.med\n"
     ]
    }
   ],
   "source": [
    "for t in twenty_train.target[:10]:\n",
    "    print(twenty_train.target_names[t])"
   ]
  },
  {
   "cell_type": "markdown",
   "metadata": {
    "id": "9av39ipneTYl"
   },
   "source": [
    "# Feature extraction\n",
    "since our data is text, to run classification models on the dataset we will turn them into vectors with numerical features. Therefore, in this section, we extract features using the **Bag of Words** method. To this regard, \n",
    "\n",
    "\n",
    "*   Assign an integer ID to each word in the dataset (like a dictionary).\n",
    "*   For each data point ( document i), count the number of occurances of word w and put it in X[i,j] where i is the i'th document and j is the index of the word w in the dictionary.\n",
    "Thus, if we have e.g., 10000 data points and 100000 words in the dictionary, then X will be a 10,000 by 100,000 matrix, which is huge! The good news is that most elements of the matrix X are zero (not all the words are used in every document). Therefore, it is possible to (somehow) just store non-zero elements and save up a lot of memory. Fortunately, the library that we use supports using \"sparse\" data representations, meaning that it does not actually store all the zero-values.\n",
    "# Tokenizing with scikit-learn\n",
    "In the following part we extract whole words that have been used in the dataset and compute their occurance count in each document. This shows number of documents are **2257** and number of features (unique words in the whole set of documents) is **35788**.\n"
   ]
  },
  {
   "cell_type": "code",
   "execution_count": 6,
   "metadata": {
    "colab": {
     "base_uri": "https://localhost:8080/"
    },
    "id": "jXpFn4Anh-bF",
    "outputId": "2d8214ea-6594-433d-9789-857a5b0f0aff"
   },
   "outputs": [
    {
     "data": {
      "text/plain": [
       "(2257, 35788)"
      ]
     },
     "execution_count": 6,
     "metadata": {},
     "output_type": "execute_result"
    }
   ],
   "source": [
    "count_vect = CountVectorizer()\n",
    "X_train_counts = count_vect.fit_transform(twenty_train.data)\n",
    "X_train_counts.shape"
   ]
  },
  {
   "cell_type": "markdown",
   "metadata": {
    "id": "FbizhQupjOuo"
   },
   "source": [
    "Up to here, we turned each document into an occurrence feature map (i.e., bag of words representation). But there is an issue with this solution: longer documents tend to have larger occurrence values. This is not ideal; for example, if we just repeat the same text twice, we don't expect the category of that document to change, but the occurance values will drastically change. Solution: we better normalize each document by dividing the occurrence values of each word by the total number of words in the document (*tf* normalization, where tf stands for term-frequency).\n",
    "\n",
    "Another issue is that we have some words that are so common that do not give much information (think of words like \"is\", \"the\", etc.). In order to reduce the effect of those words, one can use the *tf-idf* method, where on top of normalizing based on the length of the documents (*tf*), we also downscale weights for words that are presented in many documents (*idf* stands for inverse document frequency)\n",
    "\n",
    "If you are interested to know more about tf-idf, feel free to check out the wikipedia page. For this assignment, we will use *tf* and also *tf-idf* noramalization.\n",
    "\n",
    "The below application of ***TfidfTransformer*** is showed when idf is turned off. Evidently, we don't observe any changes in our feature dimension after performing **tf-idf** step."
   ]
  },
  {
   "cell_type": "code",
   "execution_count": 7,
   "metadata": {
    "colab": {
     "base_uri": "https://localhost:8080/"
    },
    "id": "402y-_ZUleyh",
    "outputId": "81aeebe3-528c-44f5-9548-9366c69ddba7"
   },
   "outputs": [
    {
     "data": {
      "text/plain": [
       "(2257, 35788)"
      ]
     },
     "execution_count": 7,
     "metadata": {},
     "output_type": "execute_result"
    }
   ],
   "source": [
    "tf_transformer = TfidfTransformer(use_idf=False).fit(X_train_counts)\n",
    "X_train_tf = tf_transformer.transform(X_train_counts)\n",
    "X_train_tf.shape"
   ]
  },
  {
   "cell_type": "markdown",
   "metadata": {
    "id": "BTGDzuZzmhPo"
   },
   "source": [
    "# Document classification\n",
    "Support Vector Machines (SVMs) are one of the most common classifiers in practices. Here we train an SVM classifier on the transformed features, and try to classify two tiny documents using the trained classifier."
   ]
  },
  {
   "cell_type": "code",
   "execution_count": 8,
   "metadata": {
    "id": "ryAWDeFonFWm",
    "scrolled": false
   },
   "outputs": [
    {
     "name": "stderr",
     "output_type": "stream",
     "text": [
      "C:\\Users\\tahme\\Anaconda3\\lib\\site-packages\\sklearn\\svm\\base.py:196: FutureWarning: The default value of gamma will change from 'auto' to 'scale' in version 0.22 to account better for unscaled features. Set gamma explicitly to 'auto' or 'scale' to avoid this warning.\n",
      "  \"avoid this warning.\", FutureWarning)\n"
     ]
    }
   ],
   "source": [
    "\n",
    "clf = SVC().fit(X_train_tf, twenty_train.target)"
   ]
  },
  {
   "cell_type": "code",
   "execution_count": 9,
   "metadata": {
    "colab": {
     "base_uri": "https://localhost:8080/"
    },
    "id": "fkUuLpkQnp26",
    "outputId": "ab5c1031-f651-45c7-acd3-12f8a8955000"
   },
   "outputs": [
    {
     "name": "stdout",
     "output_type": "stream",
     "text": [
      "'God is love' => soc.religion.christian\n",
      "'OpenGL on the GPU is fast' => soc.religion.christian\n"
     ]
    }
   ],
   "source": [
    "docs_new = ['God is love', 'OpenGL on the GPU is fast']\n",
    "X_new_counts = count_vect.transform(docs_new)\n",
    "X_new_tfidf = tf_transformer.transform(X_new_counts)\n",
    "\n",
    "predicted = clf.predict(X_new_tfidf)\n",
    "\n",
    "for doc, category in zip(docs_new, predicted):\n",
    "    print('%r => %s' % (doc, twenty_train.target_names[category]))"
   ]
  },
  {
   "cell_type": "markdown",
   "metadata": {
    "id": "xf3fSX2fpPb1"
   },
   "source": [
    "# <font color=\"red\">Task1 </font>\n",
    "Given the numerical features we can train a classifier. In the following, a simple linear SVM is trained on tf features and verified on the test dataset.\n",
    "## Pipeline\n",
    "We can create a \"pipeline\" for performing a sequence of steps, namely first extracting the words and creating vectors, then using tf or tf-idf, and then training the classifier. This helps to make our code cleaner (and allows for more code optimization, etc.) We utilize a pipeline to do vectorizer -> transformer -> classifier\n",
    "\n"
   ]
  },
  {
   "cell_type": "code",
   "execution_count": 10,
   "metadata": {
    "colab": {
     "base_uri": "https://localhost:8080/"
    },
    "id": "SvfXQ0cfqDo1",
    "outputId": "b93fa099-f830-465c-a31a-92326aad0264"
   },
   "outputs": [
    {
     "name": "stdout",
     "output_type": "stream",
     "text": [
      "linear kernel, accuracy:0.8808255659121171\n"
     ]
    }
   ],
   "source": [
    "text_clf = Pipeline([\n",
    "      ('vect', CountVectorizer()),\n",
    "      ('tfidf', TfidfTransformer(use_idf=False)),\n",
    "      ('clf', SVC(kernel='linear')),\n",
    "  ])\n",
    "text_clf.fit(twenty_train.data, twenty_train.target)\n",
    "docs_test = twenty_test.data\n",
    "predicted = text_clf.predict(docs_test)\n",
    "print('linear kernel, accuracy:{}'.format(np.mean(predicted == twenty_test.target)))"
   ]
  },
  {
   "cell_type": "markdown",
   "metadata": {
    "id": "gMhwckdqrj_p"
   },
   "source": [
    "\n",
    "\n",
    "*  **A. (Kernel effect - 15 points)** Try RBF SVM (which is a version of SVM that uses Gaussian kernel) on the above example. Report the performance on three different gamma values on the test set: 0.70, 0.650, and 0.60 (see https://scikit-learn.org/stable/modules/generated/sklearn.svm.SVC.html)\n",
    ". Can you justify the results? (why the higher/lower gamma worked better?)\n",
    "\n",
    "\n"
   ]
  },
  {
   "cell_type": "code",
   "execution_count": 11,
   "metadata": {
    "id": "47znPqTusfEp",
    "scrolled": true
   },
   "outputs": [
    {
     "name": "stdout",
     "output_type": "stream",
     "text": [
      "========================================\n",
      "RBF Kernel, Gamma 10.0  - accuracy:  0.42942743009320905\n",
      "========================================\n",
      "RBF Kernel, Gamma 0.700  - accuracy:  0.8621837549933422\n",
      "RBF Kernel, Gamma 0.650  - accuracy:  0.8608521970705726\n",
      "RBF Kernel, Gamma 0.600  - accuracy:  0.859520639147803\n",
      "========================================\n",
      "RBF Kernel, Gamma Scaled - accuracy:  0.36950732356857524\n",
      "RBF Kernel, Gamma Auto   - accuracy:  0.26498002663115844\n",
      "========================================\n"
     ]
    }
   ],
   "source": [
    "clf1 = Pipeline([\n",
    "      ('vect', CountVectorizer()),\n",
    "      ('tfidf', TfidfTransformer(use_idf=False)),\n",
    "      ('clf', SVC(kernel='rbf', gamma =0.70)),\n",
    "  ])\n",
    "clf2 = Pipeline([\n",
    "      ('vect', CountVectorizer()),\n",
    "      ('tfidf', TfidfTransformer(use_idf=False)),\n",
    "      ('clf', SVC(kernel='rbf', gamma =0.650)),\n",
    "  ])\n",
    "clf3 = Pipeline([\n",
    "      ('vect', CountVectorizer()),\n",
    "      ('tfidf', TfidfTransformer(use_idf=False)),\n",
    "      ('clf', SVC(kernel='rbf', gamma =0.60)),\n",
    "  ])\n",
    "clfs = Pipeline([ # Scaled RBF SVM, Gamma - 1/(n_features * X.var())\n",
    "      ('vect', CountVectorizer()),\n",
    "      ('tfidf', TfidfTransformer(use_idf=False)),\n",
    "      ('clf', SVC(kernel='rbf', gamma='scale')),\n",
    "  ])\n",
    "clfa = Pipeline([ # Scaled RBF SVM, Gamma - 1/ n_features\n",
    "      ('vect', CountVectorizer()),\n",
    "      ('tfidf', TfidfTransformer(use_idf=False)),\n",
    "      ('clf', SVC(kernel='rbf', gamma='auto')),\n",
    "  ])\n",
    "clfo = Pipeline([ # Testing overfitting\n",
    "      ('vect', CountVectorizer()),\n",
    "      ('tfidf', TfidfTransformer(use_idf=False)),\n",
    "      ('clf', SVC(kernel='rbf', gamma=10.0)),\n",
    "  ])\n",
    "clf1.fit(twenty_train.data, twenty_train.target)\n",
    "clf2.fit(twenty_train.data, twenty_train.target)\n",
    "clf3.fit(twenty_train.data, twenty_train.target)\n",
    "clfs.fit(twenty_train.data, twenty_train.target)\n",
    "clfa.fit(twenty_train.data, twenty_train.target)\n",
    "clfo.fit(twenty_train.data, twenty_train.target)\n",
    "docs_test = twenty_test.data\n",
    "pred1 = clf1.predict(docs_test)\n",
    "pred2 = clf2.predict(docs_test)\n",
    "pred3 = clf3.predict(docs_test)\n",
    "preds = clfs.predict(docs_test)\n",
    "preda = clfa.predict(docs_test)\n",
    "predo = clfo.predict(docs_test)\n",
    "print(\"========================================\")\n",
    "print('RBF Kernel, Gamma 10.0  - accuracy:  {}'.format(np.mean(predo == twenty_test.target)))\n",
    "print(\"========================================\")\n",
    "print('RBF Kernel, Gamma 0.700  - accuracy:  {}'.format(np.mean(pred1 == twenty_test.target)))\n",
    "print('RBF Kernel, Gamma 0.650  - accuracy:  {}'.format(np.mean(pred2 == twenty_test.target)))\n",
    "print('RBF Kernel, Gamma 0.600  - accuracy:  {}'.format(np.mean(pred3 == twenty_test.target)))\n",
    "print(\"========================================\")\n",
    "print('RBF Kernel, Gamma Scaled - accuracy:  {}'.format(np.mean(preds == twenty_test.target)))\n",
    "print('RBF Kernel, Gamma Auto   - accuracy:  {}'.format(np.mean(preda == twenty_test.target)))\n",
    "print(\"========================================\")\n",
    "# Gamma is intuitive to saying how far a training point influences the outcome of a possible new point in the data.\n",
    "# Too small, and the influence will strech far. Too close, and you can start overfitting.\n",
    "# It looks as if 0.700 results in a decently in terms of accuracy. Trying to extend the influence results in less accuarcy,\n",
    "# and we can tell from the higher gamma that reducing point influence terribly reduces accuracy.\n",
    "# We have a found a happy medium with 0.70, although we could probably try to fine tune gamma for this dataset.\n",
    "# I find it odd that the 'auto' and 'scale' options for gamma return such low accuracy values."
   ]
  },
  {
   "cell_type": "markdown",
   "metadata": {
    "id": "GY2q_ofZsiyz"
   },
   "source": [
    "*  **B. (idf importance - 15 points)** How would the results of part \"a\" change if we turn on *TfidfTransformer(use_idf=True)*? Report the results and justify them."
   ]
  },
  {
   "cell_type": "code",
   "execution_count": 12,
   "metadata": {
    "id": "TTOaRmZmyTfo"
   },
   "outputs": [
    {
     "name": "stdout",
     "output_type": "stream",
     "text": [
      "========================================\n",
      "TfidTransformer(use_idf = TRUE) for these cases\n",
      "========================================\n",
      "RBF Kernel, Gamma 10.0  - accuracy:  0.2756324900133156\n",
      "========================================\n",
      "RBF Kernel, Gamma 0.700  - accuracy:  0.9001331557922769\n",
      "RBF Kernel, Gamma 0.650  - accuracy:  0.9014647137150466\n",
      "RBF Kernel, Gamma 0.600  - accuracy:  0.9021304926764314\n",
      "========================================\n",
      "RBF Kernel, Gamma Scaled - accuracy:  0.26498002663115844\n",
      "RBF Kernel, Gamma Auto   - accuracy:  0.26498002663115844\n",
      "========================================\n"
     ]
    }
   ],
   "source": [
    "clf4 = Pipeline([\n",
    "      ('vect', CountVectorizer()),\n",
    "      ('tfidf', TfidfTransformer(use_idf=True)),\n",
    "      ('clf', SVC(kernel='rbf', gamma =0.70)),\n",
    "  ])\n",
    "clf5 = Pipeline([\n",
    "      ('vect', CountVectorizer()),\n",
    "      ('tfidf', TfidfTransformer(use_idf=True)),\n",
    "      ('clf', SVC(kernel='rbf', gamma =0.650)),\n",
    "  ])\n",
    "clf6 = Pipeline([\n",
    "      ('vect', CountVectorizer()),\n",
    "      ('tfidf', TfidfTransformer(use_idf=True)),\n",
    "      ('clf', SVC(kernel='rbf', gamma =0.60)),\n",
    "  ])\n",
    "clfs2 = Pipeline([ # Scaled RBF SVM, Gamma - 1/(n_features * X.var())\n",
    "      ('vect', CountVectorizer()),\n",
    "      ('tfidf', TfidfTransformer(use_idf=True)),\n",
    "      ('clf', SVC(kernel='rbf', gamma='scale')),\n",
    "  ])\n",
    "clfa2 = Pipeline([ # Scaled RBF SVM, Gamma - 1/ n_features\n",
    "      ('vect', CountVectorizer()),\n",
    "      ('tfidf', TfidfTransformer(use_idf=True)),\n",
    "      ('clf', SVC(kernel='rbf', gamma='auto')),\n",
    "  ])\n",
    "clfo2 = Pipeline([ # Testing overfitting\n",
    "      ('vect', CountVectorizer()),\n",
    "      ('tfidf', TfidfTransformer(use_idf=True)),\n",
    "      ('clf', SVC(kernel='rbf', gamma=10.0)),\n",
    "  ])\n",
    "clf4.fit(twenty_train.data, twenty_train.target)\n",
    "clf5.fit(twenty_train.data, twenty_train.target)\n",
    "clf6.fit(twenty_train.data, twenty_train.target)\n",
    "clfs2.fit(twenty_train.data, twenty_train.target)\n",
    "clfa2.fit(twenty_train.data, twenty_train.target)\n",
    "clfo2.fit(twenty_train.data, twenty_train.target)\n",
    "docs_test = twenty_test.data\n",
    "pred4 = clf4.predict(docs_test)\n",
    "pred5 = clf5.predict(docs_test)\n",
    "pred6 = clf6.predict(docs_test)\n",
    "preds2 = clfs2.predict(docs_test)\n",
    "preda2 = clfa2.predict(docs_test)\n",
    "predo2 = clfo2.predict(docs_test)\n",
    "print(\"========================================\")\n",
    "print(\"TfidTransformer(use_idf = TRUE) for these cases\")\n",
    "print(\"========================================\")\n",
    "print('RBF Kernel, Gamma 10.0  - accuracy:  {}'.format(np.mean(predo2 == twenty_test.target)))\n",
    "print(\"========================================\")\n",
    "print('RBF Kernel, Gamma 0.700  - accuracy:  {}'.format(np.mean(pred4 == twenty_test.target)))\n",
    "print('RBF Kernel, Gamma 0.650  - accuracy:  {}'.format(np.mean(pred5 == twenty_test.target)))\n",
    "print('RBF Kernel, Gamma 0.600  - accuracy:  {}'.format(np.mean(pred6 == twenty_test.target)))\n",
    "print(\"========================================\")\n",
    "print('RBF Kernel, Gamma Scaled - accuracy:  {}'.format(np.mean(preds2 == twenty_test.target)))\n",
    "print('RBF Kernel, Gamma Auto   - accuracy:  {}'.format(np.mean(preda2 == twenty_test.target)))\n",
    "print(\"========================================\")\n",
    "# All of the accuarcies have improved by roughly 0.05. The SVM doesn't need to focus on unecessary\n",
    "# and frequent words found in all documents. This allows to focus on the words that more accurately\n",
    "# can determine the category of the document."
   ]
  },
  {
   "cell_type": "markdown",
   "metadata": {
    "id": "4bUgxZOXH1Bs"
   },
   "source": [
    "# <font color=\"red\">Task2-Confusion matrix</font>\n",
    "The confusion matrix is a k x k matrix where k is the number of classes. Computing the confusion matrix gives more detailed information than just computing the accuracy of a classifier. The element on the row i and column j of this matrix indicates the number of data points that were from class i but we classified them as class j.\n",
    "\n",
    "In scikit, the confusion matrix is a 2d array (https://scikit-learn.org/stable/modules/generated/sklearn.metrics.confusion_matrix.html). \n",
    "Let's fix gamma = 0.7 and turn on the use_idf flag.\n",
    "\n",
    "**A. (15 points)** Report the confusion matrix on the test data. What is the most common mistake of the classifier? (for example, you can say that the data points from category xxxx were classified as category yyyy 200 times, which is more than any other pair of classes.)\n",
    "\n",
    "\n",
    "\n",
    "\n",
    "\n",
    "\n",
    "\n"
   ]
  },
  {
   "cell_type": "code",
   "execution_count": 13,
   "metadata": {
    "id": "RW2qbl1rKjhZ",
    "scrolled": true
   },
   "outputs": [
    {
     "name": "stdout",
     "output_type": "stream",
     "text": [
      "Labels:\n",
      "['alt.atheism', 'comp.graphics', 'sci.med', 'soc.religion.christian']\n",
      "Accuracy :  0.9001331557922769\n"
     ]
    },
    {
     "data": {
      "text/plain": [
       "array([[253,  13,  16,  37],\n",
       "       [  3, 374,   6,   6],\n",
       "       [  2,  44, 347,   3],\n",
       "       [  3,  12,   5, 378]], dtype=int64)"
      ]
     },
     "execution_count": 13,
     "metadata": {},
     "output_type": "execute_result"
    }
   ],
   "source": [
    "the_labels = ['alt.atheism', 'comp.graphics', 'sci.med', 'soc.religion.christian']\n",
    "# Matrix is in the order of labels above.\n",
    "cm = confusion_matrix(twenty_test.target, pred4, labels=None)\n",
    "print(\"Labels:\")\n",
    "print(the_labels)\n",
    "print (\"Accuracy : \", accuracy_score(twenty_test.target, pred4))\n",
    "cm\n",
    "\n",
    "# The most common mistake is that Computer Graphics were miss-classified as Medical Science 44 times."
   ]
  },
  {
   "cell_type": "markdown",
   "metadata": {
    "id": "_Hzr9F6B1oHb"
   },
   "source": [
    "# <font color=\"red\">Task3- The effect of n-gram</font>\n",
    "Let's say we have a document that contains \"apple watch\", and another document that contains \"I looked at my watch and had a bit of the apple\". The problem is that the bag-of-words representation will say that each of these documents have one occurances of the word apple and one occurance of the word watch; therefore, we lose the important fact that the combination word \"apple watch\" was present in the first document. To address this, it is possible to use \"n-grams\".\n",
    "\n",
    "Normally CountVectorizer assumes unigrams which means it just counts the word in each document. The idea of n-gram is to have the capability to also count sequences of n consecutive words. For example, if we use 2-grams, then \"apple watch\" will be considered as a single word (as well as things like \"I looked\", \"my watch\", \"watch and\", ...).\n",
    "\n",
    "\n",
    "In scikit, if we set ngram_rangetuple: (min_n,max_n) = (1,2) it counts both single words and also sequences of two words. Further details are available in <a href=\"https://scikit-learn.org/stable/modules/generated/sklearn.feature_extraction.text.CountVectorizer.html#sklearn.feature_extraction.text.CountVectorizer\" > this link </a>.\n",
    "\n",
    "taking the following setting,\n",
    "*   vectorizer = CountVectorizer(ngram_range=n_gram)\n",
    "*   tf_idf = TfidfTransformer()\n",
    "\n",
    "**A. (20 points)** Compare the accuracy of svm with RBF kernel (gamma=0.7) for different values of n_gram = (1,1),(1,2), and (2,2) on the test set. Which one works better? Justify the result. Also report the number of features (dimension of the input) for each of the three cases.\n"
   ]
  },
  {
   "cell_type": "code",
   "execution_count": 26,
   "metadata": {
    "scrolled": true
   },
   "outputs": [
    {
     "name": "stdout",
     "output_type": "stream",
     "text": [
      "Single words dimension:       (2257, 35788)\n",
      "Two-words dimension:          (2257, 264196)\n",
      "Single and 2-word dimension:  (2257, 299984)\n"
     ]
    }
   ],
   "source": [
    "vect11 = CountVectorizer(ngram_range=(1,1))\n",
    "X11 = vect11.fit_transform(twenty_train.data)\n",
    "\n",
    "vect12 = CountVectorizer(ngram_range=(1,2))\n",
    "X12 = vect12.fit_transform(twenty_train.data)\n",
    "\n",
    "vect22 = CountVectorizer(ngram_range=(2,2))\n",
    "X22 = vect22.fit_transform(twenty_train.data)\n",
    "print(\"Single words dimension:      \", X11.shape)\n",
    "print(\"Two-words dimension:         \",X22.shape)\n",
    "print(\"Single and 2-word dimension: \",X12.shape)"
   ]
  },
  {
   "cell_type": "code",
   "execution_count": 27,
   "metadata": {
    "id": "lPnFNXwl2AdY"
   },
   "outputs": [
    {
     "name": "stdout",
     "output_type": "stream",
     "text": [
      "Below: RBF Kernel, Gamma 0.700, TfidTrasnformer use_idf = true, different ngram ranges:\n",
      "========================================\n",
      "ngram range (1,1)  - accuracy:  0.9001331557922769\n",
      "ngram range (2,2)  - accuracy:  0.8229027962716379\n",
      "ngram range (1,2)  - accuracy:  0.8861517976031957\n",
      "========================================\n"
     ]
    }
   ],
   "source": [
    "clf11 = Pipeline([\n",
    "      ('vect', CountVectorizer(ngram_range = (1,1))),\n",
    "      ('tfidf', TfidfTransformer(use_idf=True)),\n",
    "      ('clf', SVC(kernel='rbf', gamma =0.70)),\n",
    "  ])\n",
    "clf22 = Pipeline([\n",
    "      ('vect', CountVectorizer(ngram_range = (2,2))),\n",
    "      ('tfidf', TfidfTransformer(use_idf=True)),\n",
    "      ('clf', SVC(kernel='rbf', gamma =0.70)),\n",
    "  ])\n",
    "clf12 = Pipeline([\n",
    "      ('vect', CountVectorizer(ngram_range = (1,2))),\n",
    "      ('tfidf', TfidfTransformer(use_idf=True)),\n",
    "      ('clf', SVC(kernel='rbf', gamma =0.70)),\n",
    "  ])\n",
    "clf11.fit(twenty_train.data, twenty_train.target)\n",
    "clf22.fit(twenty_train.data, twenty_train.target)\n",
    "clf12.fit(twenty_train.data, twenty_train.target)\n",
    "pred11 = clf11.predict(docs_test)\n",
    "pred22 = clf22.predict(docs_test)\n",
    "pred12 = clf12.predict(docs_test)\n",
    "\n",
    "print(\"Below: RBF Kernel, Gamma 0.700, TfidTrasnformer use_idf = true, different ngram ranges:\")\n",
    "print(\"========================================\")\n",
    "print('ngram range (1,1)  - accuracy:  {}'.format(np.mean(pred11 == twenty_test.target)))\n",
    "print('ngram range (2,2)  - accuracy:  {}'.format(np.mean(pred22 == twenty_test.target)))\n",
    "print('ngram range (1,2)  - accuracy:  {}'.format(np.mean(pred12 == twenty_test.target)))\n",
    "print(\"========================================\")\n",
    "# (1,1) is just the default for the Vectorizer, or single words.\n",
    "# (1,2) takes in single words ands combinations of 2 words (this that)\n",
    "# (2,2) takes two-word tokens only."
   ]
  },
  {
   "cell_type": "markdown",
   "metadata": {
    "id": "FQrxCahuAaNX"
   },
   "source": [
    "**B. Word or Character analyzer? (20 points)** Now that we are using n-grams, we can actually use n-characters rather than n-words. In this section we aim to investigate the feature space and classificaition performance by setting *analayzer='char'*. So, repeat the previous part with *CountVectorizer(ngram_range=n_gram,analyzer='char')* where n_gram in [(1,2),(1,3),(1,4)]. Which one of the three works better? Report test accuracies and justify the results. Also report the number of features."
   ]
  },
  {
   "cell_type": "code",
   "execution_count": 28,
   "metadata": {},
   "outputs": [
    {
     "ename": "NameError",
     "evalue": "name 'vectc43' is not defined",
     "output_type": "error",
     "traceback": [
      "\u001b[1;31m---------------------------------------------------------------------------\u001b[0m",
      "\u001b[1;31mNameError\u001b[0m                                 Traceback (most recent call last)",
      "\u001b[1;32m<ipython-input-28-f658591adb06>\u001b[0m in \u001b[0;36m<module>\u001b[1;34m\u001b[0m\n\u001b[0;32m     10\u001b[0m \u001b[1;33m\u001b[0m\u001b[0m\n\u001b[0;32m     11\u001b[0m \u001b[0mvectc14\u001b[0m \u001b[1;33m=\u001b[0m \u001b[0mCountVectorizer\u001b[0m\u001b[1;33m(\u001b[0m\u001b[0mngram_range\u001b[0m\u001b[1;33m=\u001b[0m\u001b[1;33m(\u001b[0m\u001b[1;36m1\u001b[0m\u001b[1;33m,\u001b[0m\u001b[1;36m4\u001b[0m\u001b[1;33m)\u001b[0m\u001b[1;33m)\u001b[0m\u001b[1;33m\u001b[0m\u001b[1;33m\u001b[0m\u001b[0m\n\u001b[1;32m---> 12\u001b[1;33m \u001b[0mXC14\u001b[0m \u001b[1;33m=\u001b[0m \u001b[0mvectc43\u001b[0m\u001b[1;33m.\u001b[0m\u001b[0mfit_transform\u001b[0m\u001b[1;33m(\u001b[0m\u001b[0mtwenty_train\u001b[0m\u001b[1;33m.\u001b[0m\u001b[0mdata\u001b[0m\u001b[1;33m)\u001b[0m\u001b[1;33m\u001b[0m\u001b[1;33m\u001b[0m\u001b[0m\n\u001b[0m\u001b[0;32m     13\u001b[0m \u001b[0mprint\u001b[0m\u001b[1;33m(\u001b[0m\u001b[1;34m\"Single Characters: \"\u001b[0m\u001b[1;33m,\u001b[0m \u001b[0mXC11\u001b[0m\u001b[1;33m.\u001b[0m\u001b[0mshape\u001b[0m\u001b[1;33m)\u001b[0m\u001b[1;33m\u001b[0m\u001b[1;33m\u001b[0m\u001b[0m\n\u001b[0;32m     14\u001b[0m \u001b[0mprint\u001b[0m\u001b[1;33m(\u001b[0m\u001b[1;34m\"1-2 Characters:    \"\u001b[0m\u001b[1;33m,\u001b[0m \u001b[0mXC12\u001b[0m\u001b[1;33m.\u001b[0m\u001b[0mshape\u001b[0m\u001b[1;33m)\u001b[0m\u001b[1;33m\u001b[0m\u001b[1;33m\u001b[0m\u001b[0m\n",
      "\u001b[1;31mNameError\u001b[0m: name 'vectc43' is not defined"
     ]
    }
   ],
   "source": [
    "# Vectorizers for Characters\n",
    "vectc11 = CountVectorizer(ngram_range=(1,1))\n",
    "XC11 = vectc11.fit_transform(twenty_train.data)\n",
    "\n",
    "vectc12 = CountVectorizer(ngram_range=(1,2))\n",
    "XC12 = vectc12.fit_transform(twenty_train.data)\n",
    "\n",
    "vectc13 = CountVectorizer(ngram_range=(1,3))\n",
    "XC13 = vectc13.fit_transform(twenty_train.data)\n",
    "\n",
    "vectc14 = CountVectorizer(ngram_range=(1,4))\n",
    "XC14 = vectc14.fit_transform(twenty_train.data)\n",
    "print(\"Single Characters: \", XC11.shape)\n",
    "print(\"1-2 Characters:    \", XC12.shape)\n",
    "print(\"1-3 Characters:    \", XC13.shape)\n",
    "print(\"1-4 Characters:    \", XC14.shape)"
   ]
  },
  {
   "cell_type": "code",
   "execution_count": 15,
   "metadata": {
    "id": "elkjQ4hJ_Jwh"
   },
   "outputs": [
    {
     "name": "stdout",
     "output_type": "stream",
     "text": [
      "Below: RBF Kernel, Gamma 0.700, TfidTrasnformer use_idf = true, analyzing characters different ngram ranges:\n",
      "========================================\n",
      "ngram range (1,1)  - accuracy:  0.5346205059920106\n",
      "ngram range (1,2)  - accuracy:  0.6837549933422103\n",
      "ngram range (1,3)  - accuracy:  0.8035952063914781\n",
      "ngram range (1,4)  - accuracy:  0.8408788282290279\n",
      "========================================\n"
     ]
    }
   ],
   "source": [
    "\n",
    "clfc1 = Pipeline([\n",
    "      ('vect', CountVectorizer(ngram_range = (1,1),analyzer='char')),\n",
    "      ('tfidf', TfidfTransformer(use_idf=True)),\n",
    "      ('clf', SVC(kernel='rbf', gamma =0.70)),\n",
    "  ])\n",
    "clfc2 = Pipeline([\n",
    "      ('vect', CountVectorizer(ngram_range = (1,2),analyzer='char')),\n",
    "      ('tfidf', TfidfTransformer(use_idf=True)),\n",
    "      ('clf', SVC(kernel='rbf', gamma =0.70)),\n",
    "  ])\n",
    "clfc3 = Pipeline([\n",
    "      ('vect', CountVectorizer(ngram_range = (1,3),analyzer='char')),\n",
    "      ('tfidf', TfidfTransformer(use_idf=True)),\n",
    "      ('clf', SVC(kernel='rbf', gamma =0.70)),\n",
    "  ])\n",
    "clfc4 = Pipeline([\n",
    "      ('vect', CountVectorizer(ngram_range = (1,4),analyzer='char')),\n",
    "      ('tfidf', TfidfTransformer(use_idf=True)),\n",
    "      ('clf', SVC(kernel='rbf', gamma =0.70)),\n",
    "  ])\n",
    "clfc1.fit(twenty_train.data, twenty_train.target)\n",
    "clfc2.fit(twenty_train.data, twenty_train.target)\n",
    "clfc3.fit(twenty_train.data, twenty_train.target)\n",
    "clfc4.fit(twenty_train.data, twenty_train.target)\n",
    "predc1 = clfc1.predict(docs_test)\n",
    "predc2 = clfc2.predict(docs_test)\n",
    "predc3 = clfc3.predict(docs_test)\n",
    "predc4 = clfc4.predict(docs_test)\n",
    "\n",
    "\n",
    "print(\"Below: RBF Kernel, Gamma 0.700, TfidTrasnformer use_idf = true, analyzing characters different ngram ranges:\")\n",
    "print(\"========================================\")\n",
    "print('ngram range (1,1)  - accuracy:  {}'.format(np.mean(predc1 == twenty_test.target)))\n",
    "print('ngram range (1,2)  - accuracy:  {}'.format(np.mean(predc2 == twenty_test.target)))\n",
    "print('ngram range (1,3)  - accuracy:  {}'.format(np.mean(predc3 == twenty_test.target)))\n",
    "print('ngram range (1,4)  - accuracy:  {}'.format(np.mean(predc4 == twenty_test.target)))\n",
    "print(\"========================================\")"
   ]
  }
 ],
 "metadata": {
  "colab": {
   "collapsed_sections": [],
   "name": "COMPSCI_4ML3_A3.ipynb",
   "provenance": []
  },
  "kernelspec": {
   "display_name": "Python 3",
   "language": "python",
   "name": "python3"
  },
  "language_info": {
   "codemirror_mode": {
    "name": "ipython",
    "version": 3
   },
   "file_extension": ".py",
   "mimetype": "text/x-python",
   "name": "python",
   "nbconvert_exporter": "python",
   "pygments_lexer": "ipython3",
   "version": "3.7.1"
  }
 },
 "nbformat": 4,
 "nbformat_minor": 1
}
