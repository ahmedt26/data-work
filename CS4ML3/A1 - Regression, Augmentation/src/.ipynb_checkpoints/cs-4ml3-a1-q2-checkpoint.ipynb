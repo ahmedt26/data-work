{
 "cells": [
  {
   "cell_type": "code",
   "execution_count": 1,
   "metadata": {
    "scrolled": true
   },
   "outputs": [],
   "source": [
    "# COMPSCI 4ML3 Q2\n",
    "# Tahseen Ahmed\n",
    "# Saturday, February 6th, 2020\n",
    "# ============================\n",
    "import matplotlib.pyplot as plt\n",
    "import numpy as np\n",
    "import statsmodels.api as sm # \n",
    "from sklearn.linear_model import LinearRegression # Use this for MLR"
   ]
  },
  {
   "cell_type": "code",
   "execution_count": 2,
   "metadata": {},
   "outputs": [],
   "source": [
    "# Solves the Least Squares problem for given X, Y. \n",
    "# alpha is the regularization coefficient\n",
    "# Output is the estimated y for both X and X_all\n",
    "def solve_ols(X_train, Y_train, X_test, alpha):\n",
    "    W = np.dot(np.linalg.pinv(np.dot(X_train.T, X_train) + alpha*np.identity(np.shape(X_train)[1])), np.dot(X_train.T, Y_train))\n",
    "    print (\"Optimal W is \", W.flatten())\n",
    "    return np.dot(X_train, W), np.dot(X_test, W)"
   ]
  },
  {
   "cell_type": "code",
   "execution_count": 3,
   "metadata": {},
   "outputs": [],
   "source": [
    "def run_ols(X_train, Y_train, X_test, Y_test, alpha, plot_X_train, plot_X_test, description):\n",
    "    Y_LS_train, Y_LS_test = solve_ols(X_train, Y_train, X_test, alpha)\n",
    "    \n",
    "    fig, ax = plt.subplots(figsize = (12,12), dpi = 50)\n",
    "    \n",
    "    # Plotting the train data\n",
    "    #ax.plot(X_train, Y_train, 'rx')\n",
    "    # Plotting the prediction of our model on the train data\n",
    "    #ax.plot(X_train, Y_LS_train, 'bo')\n",
    "\n",
    "    # Plotting the actual y values for the test data\n",
    "    ax.plot(plot_X_test, Y_test, 'rx', label='The actual y values for test data')\n",
    "    # Plotting the prediction of our model on the test data\n",
    "    ax.plot(plot_X_test, Y_LS_test, 'bo', label='The predicted y values for test data')\n",
    "    \n",
    "    ax.legend(loc='lower right', prop={'size': 20})\n",
    "    ax.set(xlabel='X', ylabel='Y', title=description)\n",
    "    ax.grid()\n",
    "    plt.show()\n",
    "    \n",
    "    print (\"Mean Squarred Error (MSE) of train data: \" , np.square(np.linalg.norm(Y_LS_train-Y_train))/Y_train.size)\n",
    "    print (\"Mean Squarred Error (MSE) of test data: \" , np.square(np.linalg.norm(Y_LS_test-Y_test))/Y_test.size)"
   ]
  },
  {
   "cell_type": "code",
   "execution_count": 4,
   "metadata": {
    "scrolled": true
   },
   "outputs": [
    {
     "name": "stdout",
     "output_type": "stream",
     "text": [
      "[[-1.18221259e-03  4.00428845e-05  2.08952575e-04]\n",
      " [-1.18221259e-03  4.00428845e-05  2.08952575e-04]\n",
      " [-1.18221259e-03  4.00428845e-05  2.08952575e-04]] 5.23231021242558\n"
     ]
    }
   ],
   "source": [
    "# generate n data points based on a combination of sinosuidal and polynomial functions\n",
    "def generate_data(n):\n",
    "    X = np.random.rand(n, 3)\n",
    "    # Sorting multi-dimensional data is non-trivial.\n",
    "    Y = 2 + (2*X[0]) + (3*X[1]) + (4*X[2]) + (3 *X[0] * X[1]) - (5 * X[1] * X[2]) + (2 * X[0]**2 * X[2]**2)\n",
    "    # Adding noise\n",
    "    Y = Y + 0.1*np.random.randn(n,1)\n",
    "    return X, Y\n",
    "\n",
    "myX,myY = generate_data(250000)\n",
    "regressor = LinearRegression()\n",
    "regressor.fit(myX,myY)\n",
    "\n",
    "# display coefficients, not sure about intercept, so I take the mean of the matrix.\n",
    "print(regressor.coef_, regressor.intercept_.mean())"
   ]
  }
 ],
 "metadata": {
  "kernelspec": {
   "display_name": "Python 3",
   "language": "python",
   "name": "python3"
  },
  "language_info": {
   "codemirror_mode": {
    "name": "ipython",
    "version": 3
   },
   "file_extension": ".py",
   "mimetype": "text/x-python",
   "name": "python",
   "nbconvert_exporter": "python",
   "pygments_lexer": "ipython3",
   "version": "3.7.1"
  }
 },
 "nbformat": 4,
 "nbformat_minor": 2
}
