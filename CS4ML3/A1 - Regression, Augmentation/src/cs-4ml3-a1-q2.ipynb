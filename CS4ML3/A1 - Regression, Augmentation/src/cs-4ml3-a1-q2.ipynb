{
 "cells": [
  {
   "cell_type": "code",
   "execution_count": 1,
   "metadata": {
    "scrolled": true
   },
   "outputs": [],
   "source": [
    "# COMPSCI 4ML3 Q2\n",
    "# Tahseen Ahmed\n",
    "# Saturday, February 6th, 2020\n",
    "# ============================\n",
    "import matplotlib.pyplot as plt\n",
    "import numpy as np\n",
    "import statsmodels.api as sm # \n",
    "from sklearn.linear_model import LinearRegression # Use this for MLR"
   ]
  },
  {
   "cell_type": "code",
   "execution_count": 2,
   "metadata": {
    "scrolled": true
   },
   "outputs": [
    {
     "name": "stdout",
     "output_type": "stream",
     "text": [
      "[[-4.37131668e-04  5.17751109e-05 -5.03716156e-04]\n",
      " [-4.37131668e-04  5.17751109e-05 -5.03716156e-04]\n",
      " [-4.37131668e-04  5.17751109e-05 -5.03716156e-04]] 5.8179021220451235\n"
     ]
    }
   ],
   "source": [
    "# generate n data points based on a combination of sinosuidal and polynomial functions\n",
    "def generate_data(n):\n",
    "    X = np.random.rand(n, 3)\n",
    "    # Sorting multi-dimensional data is non-trivial.\n",
    "    Y = 2 + (2*X[0]) + (3*X[1]) + (4*X[2]) + (3 *X[0] * X[1]) - (5 * X[1] * X[2]) + (2 * X[0]**2 * X[2]**2)\n",
    "    # Adding noise\n",
    "    Y = Y + 0.1*np.random.randn(n,1)\n",
    "    return X, Y\n",
    "\n",
    "myX,myY = generate_data(25000)\n",
    "regressor = LinearRegression()\n",
    "regressor.fit(myX,myY)\n",
    "\n",
    "# display coefficients, not sure about intercept, so I take the mean of the matrix.\n",
    "print(regressor.coef_, regressor.intercept_.mean())"
   ]
  }
 ],
 "metadata": {
  "kernelspec": {
   "display_name": "Python 3",
   "language": "python",
   "name": "python3"
  },
  "language_info": {
   "codemirror_mode": {
    "name": "ipython",
    "version": 3
   },
   "file_extension": ".py",
   "mimetype": "text/x-python",
   "name": "python",
   "nbconvert_exporter": "python",
   "pygments_lexer": "ipython3",
   "version": "3.7.1"
  }
 },
 "nbformat": 4,
 "nbformat_minor": 2
}
